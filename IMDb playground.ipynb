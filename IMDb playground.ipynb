{
 "cells": [
  {
   "cell_type": "markdown",
   "metadata": {},
   "source": [
    "## Using IMDb API to explore Series and Movie Ratings\n",
    "\n",
    "#### Start by importing following libraries"
   ]
  },
  {
   "cell_type": "code",
   "execution_count": 1,
   "metadata": {
    "collapsed": false
   },
   "outputs": [
    {
     "name": "stderr",
     "output_type": "stream",
     "text": [
      "C:\\Users\\Jonatan\\Anaconda2\\lib\\site-packages\\pandas\\computation\\__init__.py:19: UserWarning: The installed version of numexpr 2.4.4 is not supported in pandas and will be not be used\n",
      "\n",
      "  UserWarning)\n"
     ]
    }
   ],
   "source": [
    "import pandas as pd\n",
    "import numpy as np\n",
    "import seaborn as sns\n",
    "import matplotlib.pyplot as plt\n",
    "from pandas import DataFrame, Series"
   ]
  },
  {
   "cell_type": "markdown",
   "metadata": {},
   "source": [
    "Series and DataFrames are very handy for quickly converting data to something that can be used in plotting and preprocessing, e.g."
   ]
  },
  {
   "cell_type": "code",
   "execution_count": 7,
   "metadata": {
    "collapsed": false
   },
   "outputs": [],
   "source": [
    "df = DataFrame(np.random.randint(0,100,(100,4)), columns=list(\"ABCD\"))"
   ]
  },
  {
   "cell_type": "markdown",
   "metadata": {},
   "source": [
    "Seaborn and MatPlotLib are used for plotting the data. A bar plot can be spun up really quickly using these libraries:"
   ]
  },
  {
   "cell_type": "code",
   "execution_count": 140,
   "metadata": {
    "collapsed": false,
    "scrolled": true
   },
   "outputs": [
    {
     "data": {
      "image/png": "[encoded data removed]",
      "text/plain": [
       "<matplotlib.figure.Figure at 0x15ae5d30>"
      ]
     },
     "metadata": {},
     "output_type": "display_data"
    }
   ],
   "source": [
    "% matplotlib inline\n",
    "sns.set_style(\"whitegrid\")\n",
    "df.plot(kind=\"bar\")\n",
    "plt.show()"
   ]
  },
  {
   "cell_type": "markdown",
   "metadata": {},
   "source": [
    "Now, let's import imdbpie which is a library used for easily accessing the IMDb API:"
   ]
  },
  {
   "cell_type": "code",
   "execution_count": 141,
   "metadata": {
    "collapsed": true
   },
   "outputs": [],
   "source": [
    "from imdbpie import Imdb\n",
    "imdb = Imdb()"
   ]
  },
  {
   "cell_type": "markdown",
   "metadata": {},
   "source": [
    "Methods to use are found at https://github.com/richardasaurus/imdb-pie"
   ]
  },
  {
   "cell_type": "code",
   "execution_count": 32,
   "metadata": {
    "collapsed": false
   },
   "outputs": [
    {
     "data": {
      "text/plain": [
       "9.0"
      ]
     },
     "execution_count": 32,
     "metadata": {},
     "output_type": "execute_result"
    }
   ],
   "source": [
    "tdk = imdb.search_for_title(\"The Dark Knight\")\n",
    "tdk_id = tdk[0]['imdb_id']\n",
    "imdb.get_title_ratings(tdk_id)['rating']"
   ]
  },
  {
   "cell_type": "markdown",
   "metadata": {},
   "source": [
    "I love watching Dragon's Den and Shark Tank, but the episode quality are varying a lot from season to season. I want to know which seasons to watch and which particular episodes are good. I start by searching the API for titles and trying to locate the match I am interested in:"
   ]
  },
  {
   "cell_type": "code",
   "execution_count": 142,
   "metadata": {
    "collapsed": false
   },
   "outputs": [
    {
     "data": {
      "text/plain": [
       "{u'@type': u'imdb.api.title.ratings',\n",
       " u'canRate': True,\n",
       " u'disambiguation': u'II',\n",
       " u'id': u'/title/tt0443370/',\n",
       " u'rating': 7.1,\n",
       " u'ratingCount': 1241,\n",
       " u'title': u\"Dragons' Den\",\n",
       " u'titleType': u'tvSeries',\n",
       " u'year': 2005}"
      ]
     },
     "execution_count": 142,
     "metadata": {},
     "output_type": "execute_result"
    }
   ],
   "source": [
    "dd = imdb.search_for_title(\"Dragon's Den\")\n",
    "dd_id = dd[3]['imdb_id']\n",
    "imdb.get_title_ratings(dd_id)"
   ]
  },
  {
   "cell_type": "code",
   "execution_count": 63,
   "metadata": {
    "collapsed": false
   },
   "outputs": [],
   "source": [
    "dd_df = DataFrame()\n",
    "for i in range(1,16):\n",
    "    dd_df = dd_df.append(DataFrame(imdb.get_title_episodes_detailed(dd[3]['imdb_id'],i)['episodes']))"
   ]
  },
  {
   "cell_type": "code",
   "execution_count": 143,
   "metadata": {
    "collapsed": false
   },
   "outputs": [
    {
     "data": {
      "image/png": "[encoded data removed]",
      "text/plain": [
       "<matplotlib.figure.Figure at 0x112c4eb8>"
      ]
     },
     "metadata": {},
     "output_type": "display_data"
    }
   ],
   "source": [
    "dd_plt = dd_df[['year', 'rating']]\n",
    "dd_plt.plot(x='year')\n",
    "plt.show()"
   ]
  },
  {
   "cell_type": "markdown",
   "metadata": {},
   "source": [
    "Apparently, only the first episode was rated :(\n",
    "Maybe I have better luck with Shark Tank"
   ]
  },
  {
   "cell_type": "code",
   "execution_count": 125,
   "metadata": {
    "collapsed": false
   },
   "outputs": [],
   "source": [
    "st = imdb.search_for_title(\"Shark Tank\")\n",
    "st_details = imdb.get_title_episodes_detailed(st[0]['imdb_id'],1)"
   ]
  },
  {
   "cell_type": "code",
   "execution_count": 77,
   "metadata": {
    "collapsed": true
   },
   "outputs": [],
   "source": [
    "st_df = DataFrame()\n",
    "for i in range(1,10):\n",
    "    st_df = st_df.append(DataFrame(imdb.get_title_episodes_detailed(st[0]['imdb_id'],i)['episodes']))"
   ]
  },
  {
   "cell_type": "code",
   "execution_count": 139,
   "metadata": {
    "collapsed": false,
    "scrolled": true
   },
   "outputs": [
    {
     "data": {
      "image/png": "[encoded data removed]",
      "text/plain": [
       "<matplotlib.figure.Figure at 0x10c9e550>"
      ]
     },
     "metadata": {},
     "output_type": "display_data"
    }
   ],
   "source": [
    "st_plt = st_df[['year', 'rating']]\n",
    "st_plt.plot(x='year', y='rating', kind='scatter')\n",
    "plt.show()"
   ]
  },
  {
   "cell_type": "markdown",
   "metadata": {},
   "source": [
    "This is a lot more intesting. I plotted the ratings per year. It seems like the seasons started well, but has dropped in quality throughout the last few years."
   ]
  },
  {
   "cell_type": "code",
   "execution_count": 145,
   "metadata": {
    "collapsed": false
   },
   "outputs": [
    {
     "data": {
      "image/png": "[encoded data removed]",
      "text/plain": [
       "<matplotlib.figure.Figure at 0x10827320>"
      ]
     },
     "metadata": {},
     "output_type": "display_data"
    }
   ],
   "source": [
    "st_plt = st_df[['title', 'rating']]\n",
    "st_plt.index = range(1,len(st_plt)+1)\n",
    "plt.scatter(st_plt.index,st_plt['rating'])\n",
    "#plt.xticks(range(1,len(st_plt)),st_df['title'], rotation=70)\n",
    "plt.xlim([0,200])\n",
    "plt.show()"
   ]
  },
  {
   "cell_type": "markdown",
   "metadata": {},
   "source": [
    "Here, I have mapped each episode rating to look for particularly good episodes. The plot really shows the drop in rating the show had in 2016. To locate the specific episodes that have a significantly higher score the the rest, I have chosen to list the top 10 episodes by rating below:"
   ]
  },
  {
   "cell_type": "code",
   "execution_count": 127,
   "metadata": {
    "collapsed": false
   },
   "outputs": [
    {
     "data": {
      "text/html": [
       "<div>\n",
       "<table border=\"1\" class=\"dataframe\">\n",
       "  <thead>\n",
       "    <tr style=\"text-align: right;\">\n",
       "      <th></th>\n",
       "      <th>episodeNumber</th>\n",
       "      <th>id</th>\n",
       "      <th>rating</th>\n",
       "      <th>ratingCount</th>\n",
       "      <th>releaseDate</th>\n",
       "      <th>title</th>\n",
       "      <th>userRating</th>\n",
       "      <th>watchOptions</th>\n",
       "      <th>year</th>\n",
       "    </tr>\n",
       "  </thead>\n",
       "  <tbody>\n",
       "    <tr>\n",
       "      <th>6</th>\n",
       "      <td>7</td>\n",
       "      <td>/title/tt2260411/</td>\n",
       "      <td>8.4</td>\n",
       "      <td>57.0</td>\n",
       "      <td>{u'date': None, u'first': {u'date': u'2012-03-...</td>\n",
       "      <td>Episode #3.7</td>\n",
       "      <td>None</td>\n",
       "      <td>{u'hasDisk': None, u'hasInstant': None}</td>\n",
       "      <td>2012</td>\n",
       "    </tr>\n",
       "    <tr>\n",
       "      <th>1</th>\n",
       "      <td>2</td>\n",
       "      <td>/title/tt1868945/</td>\n",
       "      <td>8.4</td>\n",
       "      <td>57.0</td>\n",
       "      <td>{u'date': None, u'first': {u'date': u'2011-03-...</td>\n",
       "      <td>Episode #2.2</td>\n",
       "      <td>None</td>\n",
       "      <td>{u'hasDisk': None, u'hasInstant': None}</td>\n",
       "      <td>2011</td>\n",
       "    </tr>\n",
       "    <tr>\n",
       "      <th>0</th>\n",
       "      <td>1</td>\n",
       "      <td>/title/tt7414350/</td>\n",
       "      <td>8.4</td>\n",
       "      <td>13.0</td>\n",
       "      <td>{u'date': None, u'first': {u'date': u'2017-10-...</td>\n",
       "      <td>Episode #9.1</td>\n",
       "      <td>None</td>\n",
       "      <td>{u'hasDisk': None, u'hasInstant': None}</td>\n",
       "      <td>2017</td>\n",
       "    </tr>\n",
       "    <tr>\n",
       "      <th>1</th>\n",
       "      <td>2</td>\n",
       "      <td>/title/tt2188307/</td>\n",
       "      <td>8.4</td>\n",
       "      <td>61.0</td>\n",
       "      <td>{u'date': None, u'first': {u'date': u'2012-01-...</td>\n",
       "      <td>Episode #3.2</td>\n",
       "      <td>None</td>\n",
       "      <td>{u'hasDisk': None, u'hasInstant': None}</td>\n",
       "      <td>2012</td>\n",
       "    </tr>\n",
       "    <tr>\n",
       "      <th>8</th>\n",
       "      <td>9</td>\n",
       "      <td>/title/tt6264022/</td>\n",
       "      <td>8.1</td>\n",
       "      <td>11.0</td>\n",
       "      <td>{u'date': None, u'first': {u'date': u'2016-11-...</td>\n",
       "      <td>Episode #8.9</td>\n",
       "      <td>None</td>\n",
       "      <td>{u'hasDisk': None, u'hasInstant': None}</td>\n",
       "      <td>2016</td>\n",
       "    </tr>\n",
       "    <tr>\n",
       "      <th>7</th>\n",
       "      <td>8</td>\n",
       "      <td>/title/tt1910254/</td>\n",
       "      <td>8.0</td>\n",
       "      <td>49.0</td>\n",
       "      <td>{u'date': None, u'first': {u'date': u'2011-05-...</td>\n",
       "      <td>Episode #2.8</td>\n",
       "      <td>None</td>\n",
       "      <td>{u'hasDisk': None, u'hasInstant': None}</td>\n",
       "      <td>2011</td>\n",
       "    </tr>\n",
       "    <tr>\n",
       "      <th>10</th>\n",
       "      <td>11</td>\n",
       "      <td>/title/tt2339111/</td>\n",
       "      <td>7.9</td>\n",
       "      <td>48.0</td>\n",
       "      <td>{u'date': None, u'first': {u'date': u'2012-04-...</td>\n",
       "      <td>Episode #3.11</td>\n",
       "      <td>None</td>\n",
       "      <td>{u'hasDisk': None, u'hasInstant': None}</td>\n",
       "      <td>2012</td>\n",
       "    </tr>\n",
       "    <tr>\n",
       "      <th>12</th>\n",
       "      <td>13</td>\n",
       "      <td>/title/tt2603800/</td>\n",
       "      <td>7.8</td>\n",
       "      <td>37.0</td>\n",
       "      <td>{u'date': None, u'first': {u'date': u'2013-01-...</td>\n",
       "      <td>Episode #4.13</td>\n",
       "      <td>None</td>\n",
       "      <td>{u'hasDisk': None, u'hasInstant': None}</td>\n",
       "      <td>2013</td>\n",
       "    </tr>\n",
       "    <tr>\n",
       "      <th>22</th>\n",
       "      <td>23</td>\n",
       "      <td>/title/tt6837592/</td>\n",
       "      <td>7.8</td>\n",
       "      <td>9.0</td>\n",
       "      <td>{u'date': None, u'first': {u'date': u'2017-05-...</td>\n",
       "      <td>Episode #8.23</td>\n",
       "      <td>None</td>\n",
       "      <td>{u'hasDisk': None, u'hasInstant': None}</td>\n",
       "      <td>2017</td>\n",
       "    </tr>\n",
       "    <tr>\n",
       "      <th>4</th>\n",
       "      <td>5</td>\n",
       "      <td>/title/tt5059460/</td>\n",
       "      <td>7.8</td>\n",
       "      <td>37.0</td>\n",
       "      <td>{u'date': None, u'first': {u'date': u'2015-10-...</td>\n",
       "      <td>Episode #7.5</td>\n",
       "      <td>None</td>\n",
       "      <td>{u'hasDisk': None, u'hasInstant': None}</td>\n",
       "      <td>2015</td>\n",
       "    </tr>\n",
       "  </tbody>\n",
       "</table>\n",
       "</div>"
      ],
      "text/plain": [
       "    episodeNumber                 id  rating  ratingCount  \\\n",
       "6               7  /title/tt2260411/     8.4         57.0   \n",
       "1               2  /title/tt1868945/     8.4         57.0   \n",
       "0               1  /title/tt7414350/     8.4         13.0   \n",
       "1               2  /title/tt2188307/     8.4         61.0   \n",
       "8               9  /title/tt6264022/     8.1         11.0   \n",
       "7               8  /title/tt1910254/     8.0         49.0   \n",
       "10             11  /title/tt2339111/     7.9         48.0   \n",
       "12             13  /title/tt2603800/     7.8         37.0   \n",
       "22             23  /title/tt6837592/     7.8          9.0   \n",
       "4               5  /title/tt5059460/     7.8         37.0   \n",
       "\n",
       "                                          releaseDate          title  \\\n",
       "6   {u'date': None, u'first': {u'date': u'2012-03-...   Episode #3.7   \n",
       "1   {u'date': None, u'first': {u'date': u'2011-03-...   Episode #2.2   \n",
       "0   {u'date': None, u'first': {u'date': u'2017-10-...   Episode #9.1   \n",
       "1   {u'date': None, u'first': {u'date': u'2012-01-...   Episode #3.2   \n",
       "8   {u'date': None, u'first': {u'date': u'2016-11-...   Episode #8.9   \n",
       "7   {u'date': None, u'first': {u'date': u'2011-05-...   Episode #2.8   \n",
       "10  {u'date': None, u'first': {u'date': u'2012-04-...  Episode #3.11   \n",
       "12  {u'date': None, u'first': {u'date': u'2013-01-...  Episode #4.13   \n",
       "22  {u'date': None, u'first': {u'date': u'2017-05-...  Episode #8.23   \n",
       "4   {u'date': None, u'first': {u'date': u'2015-10-...   Episode #7.5   \n",
       "\n",
       "   userRating                             watchOptions  year  \n",
       "6        None  {u'hasDisk': None, u'hasInstant': None}  2012  \n",
       "1        None  {u'hasDisk': None, u'hasInstant': None}  2011  \n",
       "0        None  {u'hasDisk': None, u'hasInstant': None}  2017  \n",
       "1        None  {u'hasDisk': None, u'hasInstant': None}  2012  \n",
       "8        None  {u'hasDisk': None, u'hasInstant': None}  2016  \n",
       "7        None  {u'hasDisk': None, u'hasInstant': None}  2011  \n",
       "10       None  {u'hasDisk': None, u'hasInstant': None}  2012  \n",
       "12       None  {u'hasDisk': None, u'hasInstant': None}  2013  \n",
       "22       None  {u'hasDisk': None, u'hasInstant': None}  2017  \n",
       "4        None  {u'hasDisk': None, u'hasInstant': None}  2015  "
      ]
     },
     "execution_count": 127,
     "metadata": {},
     "output_type": "execute_result"
    }
   ],
   "source": [
    "st_df.sort_values('rating', ascending=False).iloc[0:10]"
   ]
  },
  {
   "cell_type": "code",
   "execution_count": null,
   "metadata": {
    "collapsed": true
   },
   "outputs": [],
   "source": []
  }
 ],
 "metadata": {
  "kernelspec": {
   "display_name": "Python 2",
   "language": "python",
   "name": "python2"
  },
  "language_info": {
   "codemirror_mode": {
    "name": "ipython",
    "version": 2
   },
   "file_extension": ".py",
   "mimetype": "text/x-python",
   "name": "python",
   "nbconvert_exporter": "python",
   "pygments_lexer": "ipython2",
   "version": "2.7.12"
  }
 },
 "nbformat": 4,
 "nbformat_minor": 0
}
